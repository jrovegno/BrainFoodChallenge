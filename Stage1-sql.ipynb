{
 "cells": [
  {
   "cell_type": "markdown",
   "metadata": {},
   "source": [
    "### Download Data"
   ]
  },
  {
   "cell_type": "code",
   "execution_count": 20,
   "metadata": {},
   "outputs": [],
   "source": [
    "import pandas as pd\n",
    "from sqlalchemy import create_engine"
   ]
  },
  {
   "cell_type": "code",
   "execution_count": 1,
   "metadata": {},
   "outputs": [
    {
     "name": "stderr",
     "output_type": "stream",
     "text": [
      "C:\\Users\\Javier\\Anaconda3\\lib\\site-packages\\IPython\\config.py:13: ShimWarning: The `IPython.config` package has been deprecated since IPython 4.0. You should import from traitlets.config instead.\n",
      "  \"You should import from traitlets.config instead.\", ShimWarning)\n",
      "C:\\Users\\Javier\\Anaconda3\\lib\\site-packages\\sql\\magic.py:4: UserWarning: IPython.utils.traitlets has moved to a top-level traitlets package.\n",
      "  from IPython.utils.traitlets import Bool, Int, Unicode\n"
     ]
    }
   ],
   "source": [
    "%load_ext sql"
   ]
  },
  {
   "cell_type": "code",
   "execution_count": 26,
   "metadata": {},
   "outputs": [],
   "source": [
    "update_data = False\n",
    "if update_data:\n",
    "    df = pd.read_csv('beer_reviews/beer_reviews.csv')\n",
    "    engine = create_engine('sqlite:///beer_reviews.db')\n",
    "    df.to_sql('beer_reviews', engine, if_exists='append')"
   ]
  },
  {
   "cell_type": "markdown",
   "metadata": {},
   "source": [
    "### Load the Data"
   ]
  },
  {
   "cell_type": "code",
   "execution_count": 23,
   "metadata": {},
   "outputs": [
    {
     "data": {
      "text/plain": [
       "'Connected: None@beer_reviews.db'"
      ]
     },
     "execution_count": 23,
     "metadata": {},
     "output_type": "execute_result"
    }
   ],
   "source": [
    "%sql sqlite:///beer_reviews.db"
   ]
  },
  {
   "cell_type": "code",
   "execution_count": 24,
   "metadata": {},
   "outputs": [
    {
     "name": "stdout",
     "output_type": "stream",
     "text": [
      "Done.\n"
     ]
    },
    {
     "data": {
      "text/html": [
       "<table>\n",
       "    <tr>\n",
       "        <th>index</th>\n",
       "        <th>brewery_id</th>\n",
       "        <th>brewery_name</th>\n",
       "        <th>review_time</th>\n",
       "        <th>review_overall</th>\n",
       "        <th>review_aroma</th>\n",
       "        <th>review_appearance</th>\n",
       "        <th>review_profilename</th>\n",
       "        <th>beer_style</th>\n",
       "        <th>review_palate</th>\n",
       "        <th>review_taste</th>\n",
       "        <th>beer_name</th>\n",
       "        <th>beer_abv</th>\n",
       "        <th>beer_beerid</th>\n",
       "    </tr>\n",
       "    <tr>\n",
       "        <td>0</td>\n",
       "        <td>10325</td>\n",
       "        <td>Vecchio Birraio</td>\n",
       "        <td>1234817823</td>\n",
       "        <td>1.5</td>\n",
       "        <td>2.0</td>\n",
       "        <td>2.5</td>\n",
       "        <td>stcules</td>\n",
       "        <td>Hefeweizen</td>\n",
       "        <td>1.5</td>\n",
       "        <td>1.5</td>\n",
       "        <td>Sausa Weizen</td>\n",
       "        <td>5.0</td>\n",
       "        <td>47986</td>\n",
       "    </tr>\n",
       "    <tr>\n",
       "        <td>1</td>\n",
       "        <td>10325</td>\n",
       "        <td>Vecchio Birraio</td>\n",
       "        <td>1235915097</td>\n",
       "        <td>3.0</td>\n",
       "        <td>2.5</td>\n",
       "        <td>3.0</td>\n",
       "        <td>stcules</td>\n",
       "        <td>English Strong Ale</td>\n",
       "        <td>3.0</td>\n",
       "        <td>3.0</td>\n",
       "        <td>Red Moon</td>\n",
       "        <td>6.2</td>\n",
       "        <td>48213</td>\n",
       "    </tr>\n",
       "    <tr>\n",
       "        <td>2</td>\n",
       "        <td>10325</td>\n",
       "        <td>Vecchio Birraio</td>\n",
       "        <td>1235916604</td>\n",
       "        <td>3.0</td>\n",
       "        <td>2.5</td>\n",
       "        <td>3.0</td>\n",
       "        <td>stcules</td>\n",
       "        <td>Foreign / Export Stout</td>\n",
       "        <td>3.0</td>\n",
       "        <td>3.0</td>\n",
       "        <td>Black Horse Black Beer</td>\n",
       "        <td>6.5</td>\n",
       "        <td>48215</td>\n",
       "    </tr>\n",
       "    <tr>\n",
       "        <td>3</td>\n",
       "        <td>10325</td>\n",
       "        <td>Vecchio Birraio</td>\n",
       "        <td>1234725145</td>\n",
       "        <td>3.0</td>\n",
       "        <td>3.0</td>\n",
       "        <td>3.5</td>\n",
       "        <td>stcules</td>\n",
       "        <td>German Pilsener</td>\n",
       "        <td>2.5</td>\n",
       "        <td>3.0</td>\n",
       "        <td>Sausa Pils</td>\n",
       "        <td>5.0</td>\n",
       "        <td>47969</td>\n",
       "    </tr>\n",
       "    <tr>\n",
       "        <td>4</td>\n",
       "        <td>1075</td>\n",
       "        <td>Caldera Brewing Company</td>\n",
       "        <td>1293735206</td>\n",
       "        <td>4.0</td>\n",
       "        <td>4.5</td>\n",
       "        <td>4.0</td>\n",
       "        <td>johnmichaelsen</td>\n",
       "        <td>American Double / Imperial IPA</td>\n",
       "        <td>4.0</td>\n",
       "        <td>4.5</td>\n",
       "        <td>Cauldron DIPA</td>\n",
       "        <td>7.7</td>\n",
       "        <td>64883</td>\n",
       "    </tr>\n",
       "</table>"
      ],
      "text/plain": [
       "[(0, 10325, 'Vecchio Birraio', 1234817823, 1.5, 2.0, 2.5, 'stcules', 'Hefeweizen', 1.5, 1.5, 'Sausa Weizen', 5.0, 47986),\n",
       " (1, 10325, 'Vecchio Birraio', 1235915097, 3.0, 2.5, 3.0, 'stcules', 'English Strong Ale', 3.0, 3.0, 'Red Moon', 6.2, 48213),\n",
       " (2, 10325, 'Vecchio Birraio', 1235916604, 3.0, 2.5, 3.0, 'stcules', 'Foreign / Export Stout', 3.0, 3.0, 'Black Horse Black Beer', 6.5, 48215),\n",
       " (3, 10325, 'Vecchio Birraio', 1234725145, 3.0, 3.0, 3.5, 'stcules', 'German Pilsener', 2.5, 3.0, 'Sausa Pils', 5.0, 47969),\n",
       " (4, 1075, 'Caldera Brewing Company', 1293735206, 4.0, 4.5, 4.0, 'johnmichaelsen', 'American Double / Imperial IPA', 4.0, 4.5, 'Cauldron DIPA', 7.7, 64883)]"
      ]
     },
     "execution_count": 24,
     "metadata": {},
     "output_type": "execute_result"
    }
   ],
   "source": [
    "%sql select * from beer_reviews limit 5;"
   ]
  },
  {
   "cell_type": "markdown",
   "metadata": {},
   "source": [
    "### Explore the data"
   ]
  },
  {
   "cell_type": "markdown",
   "metadata": {},
   "source": [
    "#### Numero de cervezas evaluadas"
   ]
  },
  {
   "cell_type": "code",
   "execution_count": 34,
   "metadata": {
    "scrolled": false
   },
   "outputs": [
    {
     "name": "stdout",
     "output_type": "stream",
     "text": [
      "Done.\n"
     ]
    },
    {
     "data": {
      "text/html": [
       "<table>\n",
       "    <tr>\n",
       "        <th>COUNT(*)</th>\n",
       "    </tr>\n",
       "    <tr>\n",
       "        <td>56857</td>\n",
       "    </tr>\n",
       "</table>"
      ],
      "text/plain": [
       "[(56857,)]"
      ]
     },
     "execution_count": 34,
     "metadata": {},
     "output_type": "execute_result"
    }
   ],
   "source": [
    "%%sql\n",
    "SELECT COUNT(*) FROM \n",
    "(SELECT COUNT(beer_beerid)\n",
    "FROM beer_reviews\n",
    "GROUP BY beer_name) AS g;"
   ]
  },
  {
   "cell_type": "markdown",
   "metadata": {},
   "source": [
    "#### Primero vemos distribución de la cantidad de evaluaciones para cada cerveza:\n",
    "Vemos que tienen una distribución Pareto"
   ]
  },
  {
   "cell_type": "markdown",
   "metadata": {},
   "source": [
    "### 1. ¿Qué cervecería produce la cerveza más fuerte según ABV?"
   ]
  },
  {
   "cell_type": "code",
   "execution_count": null,
   "metadata": {},
   "outputs": [],
   "source": []
  },
  {
   "cell_type": "markdown",
   "metadata": {},
   "source": [
    "### 2. Elegir 3 cervezas para recomendar"
   ]
  },
  {
   "cell_type": "markdown",
   "metadata": {},
   "source": [
    "#### Tomamos las primeras 2500 cervezas con más evaluaciones\n",
    "Nos quedamos con las cervezas que han sido evaluadas por al menos 134 personas"
   ]
  },
  {
   "cell_type": "markdown",
   "metadata": {},
   "source": [
    "#### Calculamos el weighted_rating\n",
    "https://www.beeradvocate.com/community/threads/how-to-review-a-beer.241156/\n",
    "\n",
    "- Appearance (Look) = 6% -> review_appearance\n",
    "- Smell = 24% -> review_aroma\n",
    "- Taste = 40% -> review_taste\n",
    "- Mouthfeel (Feel) = 10% -> review_palate\n",
    "- Overall = 20% -> review_overall"
   ]
  },
  {
   "cell_type": "code",
   "execution_count": null,
   "metadata": {},
   "outputs": [],
   "source": []
  },
  {
   "cell_type": "markdown",
   "metadata": {},
   "source": [
    "### 2. ¿Si tuviera que elegir 3 cervezas para recomendar usando sólo estos datos, cuáles elegiría?"
   ]
  },
  {
   "cell_type": "code",
   "execution_count": null,
   "metadata": {},
   "outputs": [],
   "source": []
  },
  {
   "cell_type": "markdown",
   "metadata": {},
   "source": [
    "### 3. ¿Cuál de los factores (aroma, taste, apperance, palette) es más importante para determinar la calidad general de una cerveza?\n",
    "Segun la referencia anterior Taste = 40% -> review_taste (El sabor)"
   ]
  },
  {
   "cell_type": "code",
   "execution_count": null,
   "metadata": {},
   "outputs": [],
   "source": []
  },
  {
   "cell_type": "markdown",
   "metadata": {},
   "source": [
    "### 4. ¿Si yo típicamente disfruto una cerveza debido a su aroma y apariencia, qué estilo de cerveza debería probar?"
   ]
  },
  {
   "cell_type": "code",
   "execution_count": null,
   "metadata": {},
   "outputs": [],
   "source": []
  }
 ],
 "metadata": {
  "kernelspec": {
   "display_name": "Python 3",
   "language": "python",
   "name": "python3"
  },
  "language_info": {
   "codemirror_mode": {
    "name": "ipython",
    "version": 3
   },
   "file_extension": ".py",
   "mimetype": "text/x-python",
   "name": "python",
   "nbconvert_exporter": "python",
   "pygments_lexer": "ipython3",
   "version": "3.6.4"
  }
 },
 "nbformat": 4,
 "nbformat_minor": 2
}
