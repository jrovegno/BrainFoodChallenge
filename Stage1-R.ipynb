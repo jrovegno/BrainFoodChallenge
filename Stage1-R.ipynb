{
 "cells": [
  {
   "cell_type": "code",
   "execution_count": 10,
   "metadata": {},
   "outputs": [],
   "source": [
    "df <- read.csv('beer_reviews/beer_reviews.csv')"
   ]
  },
  {
   "cell_type": "markdown",
   "metadata": {},
   "source": [
    "#### Dimensiones de la DB"
   ]
  },
  {
   "cell_type": "code",
   "execution_count": 11,
   "metadata": {},
   "outputs": [
    {
     "data": {
      "text/html": [
       "<ol class=list-inline>\n",
       "\t<li>1586614</li>\n",
       "\t<li>13</li>\n",
       "</ol>\n"
      ],
      "text/latex": [
       "\\begin{enumerate*}\n",
       "\\item 1586614\n",
       "\\item 13\n",
       "\\end{enumerate*}\n"
      ],
      "text/markdown": [
       "1. 1586614\n",
       "2. 13\n",
       "\n",
       "\n"
      ],
      "text/plain": [
       "[1] 1586614      13"
      ]
     },
     "metadata": {},
     "output_type": "display_data"
    }
   ],
   "source": [
    "dim(df)"
   ]
  },
  {
   "cell_type": "markdown",
   "metadata": {},
   "source": [
    "#### Numero de cervezas evaluadas"
   ]
  },
  {
   "cell_type": "code",
   "execution_count": 12,
   "metadata": {},
   "outputs": [
    {
     "data": {
      "text/html": [
       "56857"
      ],
      "text/latex": [
       "56857"
      ],
      "text/markdown": [
       "56857"
      ],
      "text/plain": [
       "[1] 56857"
      ]
     },
     "metadata": {},
     "output_type": "display_data"
    }
   ],
   "source": [
    "length(unique(df$beer_name))"
   ]
  },
  {
   "cell_type": "code",
   "execution_count": 13,
   "metadata": {},
   "outputs": [
    {
     "data": {
      "text/html": [
       "<table>\n",
       "<thead><tr><th scope=col>brewery_id</th><th scope=col>brewery_name</th><th scope=col>review_time</th><th scope=col>review_overall</th><th scope=col>review_aroma</th><th scope=col>review_appearance</th><th scope=col>review_profilename</th><th scope=col>beer_style</th><th scope=col>review_palate</th><th scope=col>review_taste</th><th scope=col>beer_name</th><th scope=col>beer_abv</th><th scope=col>beer_beerid</th></tr></thead>\n",
       "<tbody>\n",
       "\t<tr><td>10325                         </td><td>Vecchio Birraio               </td><td>1234817823                    </td><td>1.5                           </td><td>2.0                           </td><td>2.5                           </td><td>stcules                       </td><td>Hefeweizen                    </td><td>1.5                           </td><td>1.5                           </td><td>Sausa Weizen                  </td><td>5.0                           </td><td>47986                         </td></tr>\n",
       "\t<tr><td>10325                         </td><td>Vecchio Birraio               </td><td>1235915097                    </td><td>3.0                           </td><td>2.5                           </td><td>3.0                           </td><td>stcules                       </td><td>English Strong Ale            </td><td>3.0                           </td><td>3.0                           </td><td>Red Moon                      </td><td>6.2                           </td><td>48213                         </td></tr>\n",
       "\t<tr><td>10325                         </td><td>Vecchio Birraio               </td><td>1235916604                    </td><td>3.0                           </td><td>2.5                           </td><td>3.0                           </td><td>stcules                       </td><td>Foreign / Export Stout        </td><td>3.0                           </td><td>3.0                           </td><td>Black Horse Black Beer        </td><td>6.5                           </td><td>48215                         </td></tr>\n",
       "\t<tr><td>10325                         </td><td>Vecchio Birraio               </td><td>1234725145                    </td><td>3.0                           </td><td>3.0                           </td><td>3.5                           </td><td>stcules                       </td><td>German Pilsener               </td><td>2.5                           </td><td>3.0                           </td><td>Sausa Pils                    </td><td>5.0                           </td><td>47969                         </td></tr>\n",
       "\t<tr><td> 1075                         </td><td>Caldera Brewing Company       </td><td>1293735206                    </td><td>4.0                           </td><td>4.5                           </td><td>4.0                           </td><td>johnmichaelsen                </td><td>American Double / Imperial IPA</td><td>4.0                           </td><td>4.5                           </td><td>Cauldron DIPA                 </td><td>7.7                           </td><td>64883                         </td></tr>\n",
       "\t<tr><td> 1075                         </td><td>Caldera Brewing Company       </td><td>1325524659                    </td><td>3.0                           </td><td>3.5                           </td><td>3.5                           </td><td>oline73                       </td><td>Herbed / Spiced Beer          </td><td>3.0                           </td><td>3.5                           </td><td>Caldera Ginger Beer           </td><td>4.7                           </td><td>52159                         </td></tr>\n",
       "</tbody>\n",
       "</table>\n"
      ],
      "text/latex": [
       "\\begin{tabular}{r|lllllllllllll}\n",
       " brewery\\_id & brewery\\_name & review\\_time & review\\_overall & review\\_aroma & review\\_appearance & review\\_profilename & beer\\_style & review\\_palate & review\\_taste & beer\\_name & beer\\_abv & beer\\_beerid\\\\\n",
       "\\hline\n",
       "\t 10325                          & Vecchio Birraio                & 1234817823                     & 1.5                            & 2.0                            & 2.5                            & stcules                        & Hefeweizen                     & 1.5                            & 1.5                            & Sausa Weizen                   & 5.0                            & 47986                         \\\\\n",
       "\t 10325                          & Vecchio Birraio                & 1235915097                     & 3.0                            & 2.5                            & 3.0                            & stcules                        & English Strong Ale             & 3.0                            & 3.0                            & Red Moon                       & 6.2                            & 48213                         \\\\\n",
       "\t 10325                          & Vecchio Birraio                & 1235916604                     & 3.0                            & 2.5                            & 3.0                            & stcules                        & Foreign / Export Stout         & 3.0                            & 3.0                            & Black Horse Black Beer         & 6.5                            & 48215                         \\\\\n",
       "\t 10325                          & Vecchio Birraio                & 1234725145                     & 3.0                            & 3.0                            & 3.5                            & stcules                        & German Pilsener                & 2.5                            & 3.0                            & Sausa Pils                     & 5.0                            & 47969                         \\\\\n",
       "\t  1075                          & Caldera Brewing Company        & 1293735206                     & 4.0                            & 4.5                            & 4.0                            & johnmichaelsen                 & American Double / Imperial IPA & 4.0                            & 4.5                            & Cauldron DIPA                  & 7.7                            & 64883                         \\\\\n",
       "\t  1075                          & Caldera Brewing Company        & 1325524659                     & 3.0                            & 3.5                            & 3.5                            & oline73                        & Herbed / Spiced Beer           & 3.0                            & 3.5                            & Caldera Ginger Beer            & 4.7                            & 52159                         \\\\\n",
       "\\end{tabular}\n"
      ],
      "text/markdown": [
       "\n",
       "brewery_id | brewery_name | review_time | review_overall | review_aroma | review_appearance | review_profilename | beer_style | review_palate | review_taste | beer_name | beer_abv | beer_beerid | \n",
       "|---|---|---|---|---|---|\n",
       "| 10325                          | Vecchio Birraio                | 1234817823                     | 1.5                            | 2.0                            | 2.5                            | stcules                        | Hefeweizen                     | 1.5                            | 1.5                            | Sausa Weizen                   | 5.0                            | 47986                          | \n",
       "| 10325                          | Vecchio Birraio                | 1235915097                     | 3.0                            | 2.5                            | 3.0                            | stcules                        | English Strong Ale             | 3.0                            | 3.0                            | Red Moon                       | 6.2                            | 48213                          | \n",
       "| 10325                          | Vecchio Birraio                | 1235916604                     | 3.0                            | 2.5                            | 3.0                            | stcules                        | Foreign / Export Stout         | 3.0                            | 3.0                            | Black Horse Black Beer         | 6.5                            | 48215                          | \n",
       "| 10325                          | Vecchio Birraio                | 1234725145                     | 3.0                            | 3.0                            | 3.5                            | stcules                        | German Pilsener                | 2.5                            | 3.0                            | Sausa Pils                     | 5.0                            | 47969                          | \n",
       "|  1075                          | Caldera Brewing Company        | 1293735206                     | 4.0                            | 4.5                            | 4.0                            | johnmichaelsen                 | American Double / Imperial IPA | 4.0                            | 4.5                            | Cauldron DIPA                  | 7.7                            | 64883                          | \n",
       "|  1075                          | Caldera Brewing Company        | 1325524659                     | 3.0                            | 3.5                            | 3.5                            | oline73                        | Herbed / Spiced Beer           | 3.0                            | 3.5                            | Caldera Ginger Beer            | 4.7                            | 52159                          | \n",
       "\n",
       "\n"
      ],
      "text/plain": [
       "  brewery_id brewery_name            review_time review_overall review_aroma\n",
       "1 10325      Vecchio Birraio         1234817823  1.5            2.0         \n",
       "2 10325      Vecchio Birraio         1235915097  3.0            2.5         \n",
       "3 10325      Vecchio Birraio         1235916604  3.0            2.5         \n",
       "4 10325      Vecchio Birraio         1234725145  3.0            3.0         \n",
       "5  1075      Caldera Brewing Company 1293735206  4.0            4.5         \n",
       "6  1075      Caldera Brewing Company 1325524659  3.0            3.5         \n",
       "  review_appearance review_profilename beer_style                    \n",
       "1 2.5               stcules            Hefeweizen                    \n",
       "2 3.0               stcules            English Strong Ale            \n",
       "3 3.0               stcules            Foreign / Export Stout        \n",
       "4 3.5               stcules            German Pilsener               \n",
       "5 4.0               johnmichaelsen     American Double / Imperial IPA\n",
       "6 3.5               oline73            Herbed / Spiced Beer          \n",
       "  review_palate review_taste beer_name              beer_abv beer_beerid\n",
       "1 1.5           1.5          Sausa Weizen           5.0      47986      \n",
       "2 3.0           3.0          Red Moon               6.2      48213      \n",
       "3 3.0           3.0          Black Horse Black Beer 6.5      48215      \n",
       "4 2.5           3.0          Sausa Pils             5.0      47969      \n",
       "5 4.0           4.5          Cauldron DIPA          7.7      64883      \n",
       "6 3.0           3.5          Caldera Ginger Beer    4.7      52159      "
      ]
     },
     "metadata": {},
     "output_type": "display_data"
    }
   ],
   "source": [
    "head(df)"
   ]
  },
  {
   "cell_type": "code",
   "execution_count": 14,
   "metadata": {},
   "outputs": [
    {
     "data": {
      "text/plain": [
       "\n",
       "     5      8      6      7      9    5.5     10    6.5    5.2    7.5 \n",
       "109144  67744  65383  59460  59183  59010  54780  48369  43268  39978 "
      ]
     },
     "metadata": {},
     "output_type": "display_data"
    }
   ],
   "source": [
    "count_df <- sort(table(df$beer_abv), decreasing = TRUE)\n",
    "head(count_df, n = 10)"
   ]
  },
  {
   "cell_type": "code",
   "execution_count": null,
   "metadata": {},
   "outputs": [],
   "source": []
  }
 ],
 "metadata": {
  "kernelspec": {
   "display_name": "R",
   "language": "R",
   "name": "ir"
  },
  "language_info": {
   "codemirror_mode": "r",
   "file_extension": ".r",
   "mimetype": "text/x-r-source",
   "name": "R",
   "pygments_lexer": "r",
   "version": "3.4.3"
  }
 },
 "nbformat": 4,
 "nbformat_minor": 2
}
